{
 "cells": [
  {
   "cell_type": "markdown",
   "id": "672cfdbe",
   "metadata": {},
   "source": [
    "# # Index  // list.index(element, start, end)\n",
    "# Count // Count of the value number of times // list.count(element)\n",
    "\n",
    "\n",
    "############ ADDD ########\n",
    "\n",
    "# Append // Add to end of list // list.append(elem)\n",
    "# Insert // Insert in specific place // list.insert(i, elem)\n",
    "# Extend // add another list, tuple string // list1.extend(list2)\n",
    "# copy // copy to another list// list 2= list1.copy()\n",
    "\n",
    "\n",
    "########### Remove#########\n",
    "\n",
    "# POP // Removes itemBox in list //  list.pop(index)\n",
    "# Remove // Remove first matching element // list.remove(element)\n",
    "# clear // Emtys the list // list.clear()\n",
    "\n",
    "############alter########\n",
    "\n",
    "\n",
    "# Reverse // Reverse the element with value // list.reverse()  // ( another method list[start:stop:step] )\n",
    "# sort // ascend and descend // list.sort() and  list.sort(reverse=True)"
   ]
  },
  {
   "cell_type": "markdown",
   "id": "718dcdc8",
   "metadata": {},
   "source": [
    "# index |show the index"
   ]
  },
  {
   "cell_type": "code",
   "execution_count": 2,
   "id": "f4a6ae7c",
   "metadata": {},
   "outputs": [
    {
     "name": "stdout",
     "output_type": "stream",
     "text": [
      "1\n"
     ]
    }
   ],
   "source": [
    "# get the index of 'ball'd\n",
    "animals = ['apple', 'ball', 'cat ', 'dog']\n",
    "index = animals.index('ball') ;print(index)\n",
    "# Output: 1"
   ]
  },
  {
   "cell_type": "markdown",
   "id": "2db46a14",
   "metadata": {},
   "source": [
    "# Count | count the number of items"
   ]
  },
  {
   "cell_type": "code",
   "execution_count": null,
   "id": "65df4827",
   "metadata": {},
   "outputs": [],
   "source": [
    "###### Count #######\n",
    "c = animals.count(\"apple\");print(c) # 1"
   ]
  },
  {
   "cell_type": "markdown",
   "id": "02fa8f3d",
   "metadata": {},
   "source": [
    "# #################copy ########################## #"
   ]
  },
  {
   "cell_type": "code",
   "execution_count": null,
   "id": "78788b31",
   "metadata": {},
   "outputs": [],
   "source": []
  },
  {
   "cell_type": "markdown",
   "id": "02413263",
   "metadata": {},
   "source": [
    "# append  | end of the table"
   ]
  },
  {
   "cell_type": "code",
   "execution_count": 6,
   "id": "bdb4ad78",
   "metadata": {},
   "outputs": [
    {
     "name": "stdout",
     "output_type": "stream",
     "text": [
      "['apple', 'ball', 'cat ', 'dog', 'elephant', 'elephant']\n"
     ]
    }
   ],
   "source": [
    "animals.append(\"elephant\")\n",
    "print(animals)"
   ]
  },
  {
   "cell_type": "markdown",
   "id": "6735b048",
   "metadata": {},
   "source": [
    "# insert | specific place"
   ]
  },
  {
   "cell_type": "code",
   "execution_count": 7,
   "id": "eb1d08e2",
   "metadata": {},
   "outputs": [
    {
     "name": "stdout",
     "output_type": "stream",
     "text": [
      "['apple', 'ball', 'cat ', 'dog', 'elephant', 'elephant', 'farmer']\n"
     ]
    }
   ],
   "source": [
    "animals.insert(6,\"farmer\")\n",
    "print(animals)"
   ]
  },
  {
   "cell_type": "markdown",
   "id": "e1de0bab",
   "metadata": {},
   "source": [
    "# extend | add another list"
   ]
  },
  {
   "cell_type": "code",
   "execution_count": 8,
   "id": "53f2b3bd",
   "metadata": {},
   "outputs": [
    {
     "name": "stdout",
     "output_type": "stream",
     "text": [
      "['apple', 'ball', 'cat ', 'dog', 'elephant', 'elephant', 'farmer', 'mango', 'cherry']\n"
     ]
    }
   ],
   "source": [
    "fruits=[\"mango\", \"cherry\"]\n",
    "\n",
    "animals.extend(fruits)\n",
    "print(animals)"
   ]
  },
  {
   "cell_type": "markdown",
   "id": "df701733",
   "metadata": {},
   "source": [
    "# copy | copy one list to another list\n"
   ]
  },
  {
   "cell_type": "code",
   "execution_count": 10,
   "id": "d0e479b5",
   "metadata": {},
   "outputs": [
    {
     "name": "stdout",
     "output_type": "stream",
     "text": [
      "['mango', 'cherry']\n"
     ]
    }
   ],
   "source": [
    "x=fruits.copy()\n",
    "print(x)"
   ]
  },
  {
   "cell_type": "markdown",
   "id": "4bd0d7c8",
   "metadata": {},
   "source": [
    "# ################# Delete ########################## #"
   ]
  },
  {
   "cell_type": "markdown",
   "id": "60c13e61",
   "metadata": {},
   "source": [
    "# remove | remove mentioned element"
   ]
  },
  {
   "cell_type": "code",
   "execution_count": 12,
   "id": "375062a9",
   "metadata": {},
   "outputs": [
    {
     "name": "stdout",
     "output_type": "stream",
     "text": [
      "['ball', 'cat ', 'dog', 'elephant', 'elephant', 'farmer', 'mango', 'cherry']\n"
     ]
    }
   ],
   "source": [
    "### Remove####\n",
    "animals.remove(\"apple\"); print(animals) # ['apple', 'ball', 'cat ', 'dog', 'elephant', 'mango', 'cherry'"
   ]
  },
  {
   "cell_type": "markdown",
   "id": "b797a0bb",
   "metadata": {},
   "source": [
    "# pop | Remove indexed element"
   ]
  },
  {
   "cell_type": "code",
   "execution_count": 13,
   "id": "058c93b5",
   "metadata": {},
   "outputs": [
    {
     "name": "stdout",
     "output_type": "stream",
     "text": [
      "['cat ', 'dog', 'elephant', 'elephant', 'farmer', 'mango', 'cherry']\n"
     ]
    }
   ],
   "source": [
    "animals.pop(0)\n",
    "print(animals)"
   ]
  },
  {
   "cell_type": "markdown",
   "id": "9e9c3d02",
   "metadata": {},
   "source": [
    "# clear | empty the list"
   ]
  },
  {
   "cell_type": "code",
   "execution_count": 14,
   "id": "1fc695a1",
   "metadata": {},
   "outputs": [
    {
     "name": "stdout",
     "output_type": "stream",
     "text": [
      "[]\n"
     ]
    }
   ],
   "source": [
    "animals.clear()\n",
    "print(animals)"
   ]
  },
  {
   "cell_type": "code",
   "execution_count": null,
   "id": "0dc911c3",
   "metadata": {},
   "outputs": [],
   "source": []
  },
  {
   "cell_type": "markdown",
   "id": "4b710185",
   "metadata": {},
   "source": [
    "# ################# arrange ########################## #"
   ]
  },
  {
   "cell_type": "markdown",
   "id": "93af8089",
   "metadata": {},
   "source": [
    "# reverse | reversed the array "
   ]
  },
  {
   "cell_type": "code",
   "execution_count": 18,
   "id": "99c48b67",
   "metadata": {},
   "outputs": [
    {
     "name": "stdout",
     "output_type": "stream",
     "text": [
      "Reversed [7, 5, 3, 2]\n",
      "Updated List: [7, 6, 5, 4, 3, 2, 1]\n",
      "Updated List: [7, 5, 3, 1]\n"
     ]
    }
   ],
   "source": [
    "prime_numbers = [2, 3, 5, 7]\n",
    "prime_numbers.reverse()\n",
    "print(\"Reversed\", prime_numbers)\n",
    "\n",
    "# Syntax: reversed_list = systems[start:stop:step]\n",
    "systems = [1,2,3,4,5,6,7]; reversed_list = systems[::-1] ;print('Updated List:', reversed_list)\n",
    "# Updated List: [7, 6, 5, 4, 3, 2, 1]\n",
    "reversed_list = systems[::-2] ;print('Updated List:', reversed_list)\n",
    "# Updated List: [7, 5, 3, 1]"
   ]
  },
  {
   "cell_type": "markdown",
   "id": "918bc553",
   "metadata": {},
   "source": [
    "# sort | sort as per directions"
   ]
  },
  {
   "cell_type": "code",
   "execution_count": 23,
   "id": "cf0853ea",
   "metadata": {},
   "outputs": [
    {
     "name": "stdout",
     "output_type": "stream",
     "text": [
      "[2, 3, 5, 7, 11]\n",
      "[11, 7, 5, 3, 2]\n"
     ]
    }
   ],
   "source": [
    "prime_numbers = [11, 3, 7, 5, 2]\n",
    "prime_numbers.sort(); \n",
    "print(prime_numbers) # [2, 3, 5, 7, 11]\n",
    "prime_numbers.sort(reverse=True)\n",
    "print(prime_numbers)"
   ]
  },
  {
   "cell_type": "code",
   "execution_count": null,
   "id": "6429edf1",
   "metadata": {},
   "outputs": [],
   "source": []
  }
 ],
 "metadata": {
  "kernelspec": {
   "display_name": "Python 3 (ipykernel)",
   "language": "python",
   "name": "python3"
  },
  "language_info": {
   "codemirror_mode": {
    "name": "ipython",
    "version": 3
   },
   "file_extension": ".py",
   "mimetype": "text/x-python",
   "name": "python",
   "nbconvert_exporter": "python",
   "pygments_lexer": "ipython3",
   "version": "3.9.12"
  }
 },
 "nbformat": 4,
 "nbformat_minor": 5
}
