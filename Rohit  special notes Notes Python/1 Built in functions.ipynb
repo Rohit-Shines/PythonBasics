{
 "cells": [
  {
   "cell_type": "markdown",
   "id": "48ec4fba",
   "metadata": {},
   "source": [
    "# abs  | removes - or + symbol "
   ]
  },
  {
   "cell_type": "code",
   "execution_count": 4,
   "id": "232f05b7",
   "metadata": {},
   "outputs": [
    {
     "name": "stdout",
     "output_type": "stream",
     "text": [
      "1\n",
      "12\n"
     ]
    }
   ],
   "source": [
    "print(abs(+1))#\n",
    "print(abs(-12))"
   ]
  },
  {
   "cell_type": "markdown",
   "id": "a7f94140",
   "metadata": {},
   "source": [
    "# ascii | returns a readable version of any object å will be replaced with \\xe5."
   ]
  },
  {
   "cell_type": "code",
   "execution_count": 5,
   "id": "ff4b374d",
   "metadata": {},
   "outputs": [
    {
     "name": "stdout",
     "output_type": "stream",
     "text": [
      "'aa \\xe5  '\n"
     ]
    }
   ],
   "source": [
    "print(ascii(\"aa å  \"))"
   ]
  },
  {
   "cell_type": "markdown",
   "id": "2d55bb41",
   "metadata": {},
   "source": [
    "# delattr | Delete the \"age\" property from the \"person\" object:"
   ]
  },
  {
   "cell_type": "code",
   "execution_count": 6,
   "id": "ab9fcf69",
   "metadata": {},
   "outputs": [],
   "source": [
    "class Person:\n",
    "  name = \"John\"\n",
    "  age = 36\n",
    "  country = \"Norway\"\n",
    "\n",
    "delattr(Person, 'age')"
   ]
  },
  {
   "cell_type": "code",
   "execution_count": 20,
   "id": "8fa4cc39",
   "metadata": {},
   "outputs": [
    {
     "name": "stdout",
     "output_type": "stream",
     "text": [
      "[(0, 'a'), (1, 'b'), (2, 'c')]\n"
     ]
    }
   ],
   "source": [
    "x = ['a','b','c']\n",
    "\n",
    "print(list(enumerate(x)))"
   ]
  },
  {
   "cell_type": "code",
   "execution_count": 27,
   "id": "c65a5149",
   "metadata": {},
   "outputs": [
    {
     "name": "stdout",
     "output_type": "stream",
     "text": [
      "100\n"
     ]
    },
    {
     "ename": "NameError",
     "evalue": "name 'f' is not defined",
     "output_type": "error",
     "traceback": [
      "\u001b[0;31m---------------------------------------------------------------------------\u001b[0m",
      "\u001b[0;31mNameError\u001b[0m                                 Traceback (most recent call last)",
      "Input \u001b[0;32mIn [27]\u001b[0m, in \u001b[0;36m<cell line: 8>\u001b[0;34m()\u001b[0m\n\u001b[1;32m      4\u001b[0m \u001b[38;5;28meval\u001b[39m(z)\n\u001b[1;32m      7\u001b[0m k \u001b[38;5;241m=\u001b[39m\u001b[38;5;124m'\u001b[39m\u001b[38;5;124mprint(f)\u001b[39m\u001b[38;5;124m'\u001b[39m\n\u001b[0;32m----> 8\u001b[0m \u001b[38;5;28;43meval\u001b[39;49m\u001b[43m(\u001b[49m\u001b[43mk\u001b[49m\u001b[43m)\u001b[49m\n",
      "File \u001b[0;32m<string>:1\u001b[0m, in \u001b[0;36m<module>\u001b[0;34m\u001b[0m\n",
      "\u001b[0;31mNameError\u001b[0m: name 'f' is not defined"
     ]
    }
   ],
   "source": [
    "# eval | unction evaluates the specified expression, if the expression is a legal Python statement, it will be executed.\n",
    "\n",
    "z = 'print(\"100\")'\n",
    "eval(z)\n",
    "\n",
    "\n",
    "k ='print(f)'\n",
    "eval(k)"
   ]
  },
  {
   "cell_type": "markdown",
   "id": "0fd0f197",
   "metadata": {},
   "source": [
    "# filter | Filter the array, and return a new array with only the values equal to or above 18:"
   ]
  },
  {
   "cell_type": "code",
   "execution_count": 30,
   "id": "a4a3af08",
   "metadata": {},
   "outputs": [
    {
     "name": "stdout",
     "output_type": "stream",
     "text": [
      "[18, 24, 32]\n"
     ]
    }
   ],
   "source": [
    "ages = [5, 12, 17, 18, 24, 32]\n",
    "\n",
    "def myFunc(x):\n",
    "  if x < 18:\n",
    "    return False\n",
    "  else:\n",
    "    return True\n",
    "\n",
    "adults = filter(myFunc, ages) # this wil automatically call all age groups to def and write things in adults\n",
    "\n",
    "print(list(adults))"
   ]
  },
  {
   "cell_type": "markdown",
   "id": "c8d54667",
   "metadata": {},
   "source": [
    "# # iter | The iter() function returns an iterator object."
   ]
  },
  {
   "cell_type": "code",
   "execution_count": 34,
   "id": "f5a82553",
   "metadata": {},
   "outputs": [
    {
     "name": "stdout",
     "output_type": "stream",
     "text": [
      "a\n",
      "b\n",
      "c\n"
     ]
    }
   ],
   "source": [
    "arr =['a','b','c']\n",
    "\n",
    "x= iter(arr)\n",
    "print(next(x))\n",
    "print(next(x))\n",
    "print(next(x))"
   ]
  },
  {
   "cell_type": "markdown",
   "id": "c43e07d1",
   "metadata": {},
   "source": [
    "# map | executes a specified function for each item in an iterable."
   ]
  },
  {
   "cell_type": "code",
   "execution_count": 40,
   "id": "50c15f96",
   "metadata": {},
   "outputs": [
    {
     "name": "stdout",
     "output_type": "stream",
     "text": [
      "[5, 6, 6]\n"
     ]
    }
   ],
   "source": [
    "def length(a):\n",
    "    return (len(a))\n",
    "\n",
    "x= map(length, ('apple', 'banana', 'cherry'))\n",
    "\n",
    "print(list(x))\n",
    "    "
   ]
  },
  {
   "cell_type": "markdown",
   "id": "2376b9a2",
   "metadata": {},
   "source": [
    "#  reversed() function returns a reversed iterator object."
   ]
  },
  {
   "cell_type": "code",
   "execution_count": 42,
   "id": "130b528b",
   "metadata": {},
   "outputs": [
    {
     "name": "stdout",
     "output_type": "stream",
     "text": [
      "['d', 'c', 'b', 'a']\n"
     ]
    }
   ],
   "source": [
    "print(list(reversed([\"a\", \"b\", \"c\", \"d\"])))"
   ]
  },
  {
   "cell_type": "markdown",
   "id": "c13cae98",
   "metadata": {},
   "source": [
    "# slice function returns a slice object."
   ]
  },
  {
   "cell_type": "code",
   "execution_count": 52,
   "id": "aa87e8ef",
   "metadata": {},
   "outputs": [
    {
     "name": "stdout",
     "output_type": "stream",
     "text": [
      "('a', 'b')\n",
      "('a', 'b', 'k', 'd')\n",
      "('a', 'k', 'e')\n"
     ]
    }
   ],
   "source": [
    "a = (\"a\", \"b\", \"k\", \"d\", \"e\", \"f\", \"g\", \"h\")\n",
    "# slice(start, end, step)\n",
    "print(a[slice(2)])\n",
    "print(a[slice(0,4)])\n",
    "print(a[slice(0,6,2)])"
   ]
  },
  {
   "cell_type": "markdown",
   "id": "ad799584",
   "metadata": {},
   "source": [
    "# sorted\n"
   ]
  },
  {
   "cell_type": "code",
   "execution_count": 53,
   "id": "adef07bc",
   "metadata": {},
   "outputs": [
    {
     "name": "stdout",
     "output_type": "stream",
     "text": [
      "['a', 'b', 'd', 'e', 'f', 'g', 'h', 'k']\n"
     ]
    }
   ],
   "source": [
    "print(sorted(a))"
   ]
  },
  {
   "cell_type": "code",
   "execution_count": null,
   "id": "b269dcdd",
   "metadata": {},
   "outputs": [],
   "source": []
  }
 ],
 "metadata": {
  "kernelspec": {
   "display_name": "Python 3 (ipykernel)",
   "language": "python",
   "name": "python3"
  },
  "language_info": {
   "codemirror_mode": {
    "name": "ipython",
    "version": 3
   },
   "file_extension": ".py",
   "mimetype": "text/x-python",
   "name": "python",
   "nbconvert_exporter": "python",
   "pygments_lexer": "ipython3",
   "version": "3.9.12"
  }
 },
 "nbformat": 4,
 "nbformat_minor": 5
}
