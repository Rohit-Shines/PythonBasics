{
 "cells": [
  {
   "cell_type": "markdown",
   "id": "b484a1b3",
   "metadata": {},
   "source": [
    "# capitalize"
   ]
  },
  {
   "cell_type": "code",
   "execution_count": 24,
   "id": "7b89a0ac",
   "metadata": {},
   "outputs": [],
   "source": [
    "str = \"apple bAll cAt\" # using same key word for all methods"
   ]
  },
  {
   "cell_type": "code",
   "execution_count": 5,
   "id": "b9251da0",
   "metadata": {},
   "outputs": [
    {
     "name": "stdout",
     "output_type": "stream",
     "text": [
      "Apple ball cat\n"
     ]
    }
   ],
   "source": [
    "print(str.capitalize()) # makes first word capital"
   ]
  },
  {
   "cell_type": "markdown",
   "id": "52370788",
   "metadata": {},
   "source": [
    "# Uncapitliaze\n"
   ]
  },
  {
   "cell_type": "code",
   "execution_count": 6,
   "id": "611a3465",
   "metadata": {},
   "outputs": [
    {
     "name": "stdout",
     "output_type": "stream",
     "text": [
      "apple ball cat\n"
     ]
    }
   ],
   "source": [
    "print(str.casefold()) # removes any capital"
   ]
  },
  {
   "cell_type": "markdown",
   "id": "1480a28d",
   "metadata": {},
   "source": [
    "# count"
   ]
  },
  {
   "cell_type": "code",
   "execution_count": 11,
   "id": "027ba7f6",
   "metadata": {},
   "outputs": [
    {
     "name": "stdout",
     "output_type": "stream",
     "text": [
      "3\n"
     ]
    }
   ],
   "source": [
    "print(str.count(\"a\")) # counts the number of values "
   ]
  },
  {
   "cell_type": "markdown",
   "id": "0c3ad319",
   "metadata": {},
   "source": [
    "# endswith"
   ]
  },
  {
   "cell_type": "code",
   "execution_count": 13,
   "id": "2e2434f8",
   "metadata": {},
   "outputs": [
    {
     "name": "stdout",
     "output_type": "stream",
     "text": [
      "True\n"
     ]
    }
   ],
   "source": [
    "print(str.endswith(\"cat\")) # if it ends with specific value then it is true"
   ]
  },
  {
   "cell_type": "markdown",
   "id": "a02d1f4d",
   "metadata": {},
   "source": [
    "# string find"
   ]
  },
  {
   "cell_type": "code",
   "execution_count": 15,
   "id": "8aa9b3c4",
   "metadata": {},
   "outputs": [
    {
     "name": "stdout",
     "output_type": "stream",
     "text": [
      "11\n"
     ]
    }
   ],
   "source": [
    "print(str.find(\"cat\")) # returns the index of first occurrence of the substring (if found). If not found, it returns -1"
   ]
  },
  {
   "cell_type": "markdown",
   "id": "0adad870",
   "metadata": {},
   "source": [
    "# string Format"
   ]
  },
  {
   "cell_type": "code",
   "execution_count": 16,
   "id": "58f5e3b5",
   "metadata": {},
   "outputs": [
    {
     "name": "stdout",
     "output_type": "stream",
     "text": [
      "Hello Adam, your balance is 230.2346.\n"
     ]
    }
   ],
   "source": [
    "print(\"Hello {}, your balance is {}.\".format(\"Adam\", 230.2346))"
   ]
  },
  {
   "cell_type": "markdown",
   "id": "428a866c",
   "metadata": {},
   "source": [
    "# alpha numeric | alpla | numeric | digits |decimals"
   ]
  },
  {
   "cell_type": "code",
   "execution_count": 19,
   "id": "156fb969",
   "metadata": {},
   "outputs": [
    {
     "name": "stdout",
     "output_type": "stream",
     "text": [
      "True\n",
      "False\n"
     ]
    }
   ],
   "source": [
    "str1 =\"apple1\" ; str2 =\"apple 1\"\n",
    "\n",
    "# accepts alphabets and numbers\n",
    "print(str1.isalnum())# true \n",
    "print(str2.isalnum()) # false"
   ]
  },
  {
   "cell_type": "code",
   "execution_count": 21,
   "id": "123fb87e",
   "metadata": {},
   "outputs": [
    {
     "name": "stdout",
     "output_type": "stream",
     "text": [
      "False\n",
      "False\n",
      "False\n"
     ]
    }
   ],
   "source": [
    "# only accepts alphabets\n",
    "print(str.isalpha()) #false\n",
    "print(str1.isalpha())# true \n",
    "print(str2.isalpha())# false"
   ]
  },
  {
   "cell_type": "code",
   "execution_count": 25,
   "id": "c9a24885",
   "metadata": {},
   "outputs": [
    {
     "name": "stdout",
     "output_type": "stream",
     "text": [
      "True\n"
     ]
    }
   ],
   "source": [
    "# The isascii() method returns True if all the characters are ascii characters  (A-z)(0-9)(special chars also)\n",
    "print(str.isascii())\n"
   ]
  },
  {
   "cell_type": "code",
   "execution_count": 26,
   "id": "6f430299",
   "metadata": {},
   "outputs": [
    {
     "name": "stdout",
     "output_type": "stream",
     "text": [
      "False\n"
     ]
    }
   ],
   "source": [
    "# The isdecimal() method returns True if all the characters are decimals (0-9).\n",
    "print(str.isdecimal())"
   ]
  },
  {
   "cell_type": "code",
   "execution_count": 29,
   "id": "88f7bf7b",
   "metadata": {},
   "outputs": [
    {
     "name": "stdout",
     "output_type": "stream",
     "text": [
      "False\n"
     ]
    }
   ],
   "source": [
    "# The isdigit() method returns True if all the characters are digits, like ² also\n",
    "str3=\"123\"\n",
    "print(str3.isdigit())"
   ]
  },
  {
   "cell_type": "markdown",
   "id": "a5887bd7",
   "metadata": {},
   "source": [
    "# identifier (a-z) and (0-9), or underscores (_). A valid identifier cannot start with a number, or contain any spaces."
   ]
  },
  {
   "cell_type": "code",
   "execution_count": 32,
   "id": "cd816655",
   "metadata": {},
   "outputs": [
    {
     "name": "stdout",
     "output_type": "stream",
     "text": [
      "False\n",
      "True\n"
     ]
    }
   ],
   "source": [
    "str4 =\"apple_123\"\n",
    "print(str.isidentifier())\n",
    "print(str4.isidentifier())"
   ]
  },
  {
   "cell_type": "code",
   "execution_count": 33,
   "id": "b1e2f851",
   "metadata": {},
   "outputs": [
    {
     "ename": "NameError",
     "evalue": "name 'a' is not defined",
     "output_type": "error",
     "traceback": [
      "\u001b[0;31m---------------------------------------------------------------------------\u001b[0m",
      "\u001b[0;31mNameError\u001b[0m                                 Traceback (most recent call last)",
      "Input \u001b[0;32mIn [33]\u001b[0m, in \u001b[0;36m<cell line: 1>\u001b[0;34m()\u001b[0m\n\u001b[0;32m----> 1\u001b[0m \u001b[38;5;28mprint\u001b[39m(str4\u001b[38;5;241m.\u001b[39mtranslate(\u001b[43ma\u001b[49m,b))\n",
      "\u001b[0;31mNameError\u001b[0m: name 'a' is not defined"
     ]
    }
   ],
   "source": [
    "print(str4.translate(a,b))"
   ]
  },
  {
   "cell_type": "markdown",
   "id": "9b6b6188",
   "metadata": {},
   "source": [
    "# Replace"
   ]
  },
  {
   "cell_type": "code",
   "execution_count": 35,
   "id": "5f64ef00",
   "metadata": {},
   "outputs": [
    {
     "name": "stdout",
     "output_type": "stream",
     "text": [
      "my name is howla\n"
     ]
    }
   ],
   "source": [
    "str6 = \"my , name is billa\"\n",
    "print(str6.replace(\"billa\", \"howla\"))"
   ]
  },
  {
   "cell_type": "markdown",
   "id": "c86ad6e4",
   "metadata": {},
   "source": [
    "# split\n"
   ]
  },
  {
   "cell_type": "code",
   "execution_count": 41,
   "id": "b3ede75c",
   "metadata": {},
   "outputs": [
    {
     "name": "stdout",
     "output_type": "stream",
     "text": [
      "['my', 'name', 'is', 'billa']\n",
      "['my n', 'me is bill', '']\n",
      "['my name is billa']\n"
     ]
    }
   ],
   "source": [
    "print(str6.split())\n",
    "print(str6.split(\"a\"))\n",
    "print(str6.split(\",\"))"
   ]
  },
  {
   "cell_type": "markdown",
   "id": "f98d8a86",
   "metadata": {},
   "source": [
    "# Strip.  Remove spaces at the beginning and at the end of the string:"
   ]
  },
  {
   "cell_type": "code",
   "execution_count": 42,
   "id": "69f99931",
   "metadata": {},
   "outputs": [
    {
     "name": "stdout",
     "output_type": "stream",
     "text": [
      "amazin.\n"
     ]
    }
   ],
   "source": [
    "str7 = \"      amazin.      \"\n",
    "print(str7.strip())"
   ]
  },
  {
   "cell_type": "code",
   "execution_count": 47,
   "id": "d6abde20",
   "metadata": {},
   "outputs": [],
   "source": [
    "# zfill "
   ]
  },
  {
   "cell_type": "code",
   "execution_count": 49,
   "id": "57f8e1de",
   "metadata": {},
   "outputs": [
    {
     "name": "stdout",
     "output_type": "stream",
     "text": [
      "<class 'str'>\n"
     ]
    },
    {
     "ename": "TypeError",
     "evalue": "'str' object is not an iterator",
     "output_type": "error",
     "traceback": [
      "\u001b[0;31m---------------------------------------------------------------------------\u001b[0m",
      "\u001b[0;31mTypeError\u001b[0m                                 Traceback (most recent call last)",
      "Input \u001b[0;32mIn [49]\u001b[0m, in \u001b[0;36m<cell line: 10>\u001b[0;34m()\u001b[0m\n\u001b[1;32m      6\u001b[0m obj \u001b[38;5;241m=\u001b[39m fun_generator()\n\u001b[1;32m      8\u001b[0m \u001b[38;5;28mprint\u001b[39m(\u001b[38;5;28mtype\u001b[39m(obj))\n\u001b[0;32m---> 10\u001b[0m \u001b[38;5;28mprint\u001b[39m(\u001b[38;5;28;43mnext\u001b[39;49m\u001b[43m(\u001b[49m\u001b[43mobj\u001b[49m\u001b[43m)\u001b[49m)\n\u001b[1;32m     11\u001b[0m \u001b[38;5;28mprint\u001b[39m(\u001b[38;5;28mnext\u001b[39m(obj))\n",
      "\u001b[0;31mTypeError\u001b[0m: 'str' object is not an iterator"
     ]
    }
   ],
   "source": []
  },
  {
   "cell_type": "code",
   "execution_count": null,
   "id": "924db3a9",
   "metadata": {},
   "outputs": [],
   "source": []
  }
 ],
 "metadata": {
  "kernelspec": {
   "display_name": "Python 3 (ipykernel)",
   "language": "python",
   "name": "python3"
  },
  "language_info": {
   "codemirror_mode": {
    "name": "ipython",
    "version": 3
   },
   "file_extension": ".py",
   "mimetype": "text/x-python",
   "name": "python",
   "nbconvert_exporter": "python",
   "pygments_lexer": "ipython3",
   "version": "3.9.12"
  }
 },
 "nbformat": 4,
 "nbformat_minor": 5
}
