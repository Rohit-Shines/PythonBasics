{
 "cells": [
  {
   "cell_type": "code",
   "execution_count": null,
   "id": "b8281aa4",
   "metadata": {},
   "outputs": [],
   "source": [
    "# e = element\n",
    "# i  = Index\n",
    "# L = list \n",
    "# k = key\n",
    "# v = value\n",
    "\n",
    "#Update #####################################################################################################\n",
    "\n",
    "dict.fromkeys(L1,L2)   add values to all the keys \n",
    "setdefault(k,v)   Add default values \n",
    "update({k:v})    Add new keys and values\n",
    "\n",
    "#GET #####################################################################################################\n",
    "\n",
    "get(K)    print the value of the key\n",
    "keys()    print all the kyes\n",
    "values()  print all the values\n",
    "\n",
    "\n",
    "#COPY#####################################################################################################\n",
    "copy()      Copies the dictionary\n",
    "\n",
    "\n",
    "#DELETE #####################################################################################################\n",
    "clear()     Delete all elements from dictionary\n",
    "pop(k)      delete specified key elements\n",
    "popitem()   Deletes the last items\n",
    "\n",
    "######################################################################################################\n",
    "\n",
    "\n",
    "\n",
    "\n",
    "\n",
    "\n"
   ]
  },
  {
   "cell_type": "markdown",
   "id": "4e8a16a6",
   "metadata": {},
   "source": [
    "# form keys | forms the keys\n",
    "\n",
    "\n",
    "\n"
   ]
  },
  {
   "cell_type": "code",
   "execution_count": 8,
   "id": "1e512b82",
   "metadata": {},
   "outputs": [
    {
     "name": "stdout",
     "output_type": "stream",
     "text": [
      "{'a': 'a', 'b': 'a', 'c': 'a', 'd': 'a'}\n"
     ]
    }
   ],
   "source": [
    "x =('a','b','c','d')\n",
    "\n",
    "keys = dict.fromkeys(x,\"a\")\n",
    "\n",
    "print(keys)"
   ]
  },
  {
   "cell_type": "code",
   "execution_count": 9,
   "id": "2551cc5f",
   "metadata": {},
   "outputs": [
    {
     "name": "stdout",
     "output_type": "stream",
     "text": [
      "{'a': None, 'b': None, 'c': None, 'd': None}\n"
     ]
    }
   ],
   "source": [
    "x =('a','b','c','d')\n",
    "\n",
    "keys = dict.fromkeys(x)\n",
    "\n",
    "print(keys)"
   ]
  },
  {
   "cell_type": "markdown",
   "id": "ec3a1857",
   "metadata": {},
   "source": [
    "# get | to return the value from list"
   ]
  },
  {
   "cell_type": "code",
   "execution_count": 12,
   "id": "b74482b0",
   "metadata": {},
   "outputs": [
    {
     "name": "stdout",
     "output_type": "stream",
     "text": [
      "Ford\n"
     ]
    }
   ],
   "source": [
    "car = {\"brand\": \"Ford\",\"model\": \"Mustang\",\"year\": 1964}\n",
    "\n",
    "x= car.get(\"brand\")\n",
    "print(x)"
   ]
  },
  {
   "cell_type": "markdown",
   "id": "a0dab94e",
   "metadata": {},
   "source": [
    "# setdefault() | f the key does not exist, insert the key, with the specified value, see example below"
   ]
  },
  {
   "cell_type": "code",
   "execution_count": 15,
   "id": "a71a77c6",
   "metadata": {},
   "outputs": [
    {
     "name": "stdout",
     "output_type": "stream",
     "text": [
      "Ford\n"
     ]
    }
   ],
   "source": [
    "y=car.setdefault(\"brand\",\"pora\")\n",
    "print(y) # will not override existing vaue until it is empty"
   ]
  },
  {
   "cell_type": "markdown",
   "id": "51acda72",
   "metadata": {},
   "source": [
    "# update | update with new values"
   ]
  },
  {
   "cell_type": "code",
   "execution_count": 20,
   "id": "bce90d51",
   "metadata": {},
   "outputs": [
    {
     "name": "stdout",
     "output_type": "stream",
     "text": [
      "{'brand': 'Ford', 'model': 'Mustang', 'year': 1964, 'brnad': 'maruti suzuki', 'color': 'black'}\n"
     ]
    }
   ],
   "source": [
    "car.update({\"color\":\"black\"})\n",
    "print(car)"
   ]
  },
  {
   "cell_type": "markdown",
   "id": "903187b6",
   "metadata": {},
   "source": [
    "# values | copy only values to new list"
   ]
  },
  {
   "cell_type": "code",
   "execution_count": 22,
   "id": "857adc14",
   "metadata": {},
   "outputs": [
    {
     "name": "stdout",
     "output_type": "stream",
     "text": [
      "['Ford', 'Mustang', 1964, 'maruti suzuki', 'black']\n"
     ]
    }
   ],
   "source": [
    "m = car.values()\n",
    "print(list(m))"
   ]
  },
  {
   "cell_type": "code",
   "execution_count": null,
   "id": "b62ae3b3",
   "metadata": {},
   "outputs": [],
   "source": [
    "\n",
    "\n",
    "\n",
    "\n",
    "\n"
   ]
  }
 ],
 "metadata": {
  "kernelspec": {
   "display_name": "Python 3 (ipykernel)",
   "language": "python",
   "name": "python3"
  },
  "language_info": {
   "codemirror_mode": {
    "name": "ipython",
    "version": 3
   },
   "file_extension": ".py",
   "mimetype": "text/x-python",
   "name": "python",
   "nbconvert_exporter": "python",
   "pygments_lexer": "ipython3",
   "version": "3.9.12"
  }
 },
 "nbformat": 4,
 "nbformat_minor": 5
}
