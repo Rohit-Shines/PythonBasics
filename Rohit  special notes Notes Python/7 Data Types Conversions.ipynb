{
 "cells": [
  {
   "cell_type": "markdown",
   "id": "835cf387",
   "metadata": {},
   "source": [
    "# String to array"
   ]
  },
  {
   "cell_type": "code",
   "execution_count": 1,
   "id": "6dcaea67",
   "metadata": {},
   "outputs": [],
   "source": [
    "sttr = \"My name, is billa\""
   ]
  },
  {
   "cell_type": "code",
   "execution_count": 30,
   "id": "3b293c37",
   "metadata": {},
   "outputs": [
    {
     "name": "stdout",
     "output_type": "stream",
     "text": [
      "['My', 'name,', 'is', 'billa']\n"
     ]
    }
   ],
   "source": [
    "print(str.split()) # SPLIT WITH WHITE SPACES"
   ]
  },
  {
   "cell_type": "code",
   "execution_count": 29,
   "id": "f7d03f8c",
   "metadata": {},
   "outputs": [
    {
     "name": "stdout",
     "output_type": "stream",
     "text": [
      "['My name', ' is billa']\n"
     ]
    }
   ],
   "source": [
    "print(str.split(',')) # split with only commas "
   ]
  },
  {
   "cell_type": "code",
   "execution_count": 8,
   "id": "3e803a32",
   "metadata": {},
   "outputs": [
    {
     "name": "stdout",
     "output_type": "stream",
     "text": [
      "['My', 'name,', 'is', 'billa']\n"
     ]
    }
   ],
   "source": [
    "print(str.split(\" \")) # split with white spaces"
   ]
  },
  {
   "cell_type": "code",
   "execution_count": 9,
   "id": "bb4cb06f",
   "metadata": {},
   "outputs": [
    {
     "name": "stdout",
     "output_type": "stream",
     "text": [
      "['M', 'y', ' ', 'n', 'a', 'm', 'e', ',', ' ', 'i', 's', ' ', 'b', 'i', 'l', 'l', 'a']\n"
     ]
    }
   ],
   "source": [
    "print(list(str)) # split everything including white spaces"
   ]
  },
  {
   "cell_type": "markdown",
   "id": "ba6735db",
   "metadata": {},
   "source": [
    "# Array to String"
   ]
  },
  {
   "cell_type": "code",
   "execution_count": 18,
   "id": "2f81eb9f",
   "metadata": {},
   "outputs": [],
   "source": [
    "arr = ['a','b','c','d']"
   ]
  },
  {
   "cell_type": "code",
   "execution_count": 21,
   "id": "54ff478b",
   "metadata": {},
   "outputs": [
    {
     "name": "stdout",
     "output_type": "stream",
     "text": [
      "abcd\n"
     ]
    }
   ],
   "source": [
    "print(''.join(arr)) # making arr to string. same with list tuple and everything"
   ]
  },
  {
   "cell_type": "code",
   "execution_count": 22,
   "id": "e47e6f8f",
   "metadata": {},
   "outputs": [
    {
     "name": "stdout",
     "output_type": "stream",
     "text": [
      "a,b,c,d\n"
     ]
    }
   ],
   "source": [
    "print(','.join(arr)) # using , we can add , between strings"
   ]
  },
  {
   "cell_type": "code",
   "execution_count": 23,
   "id": "115eb9b1",
   "metadata": {},
   "outputs": [
    {
     "name": "stdout",
     "output_type": "stream",
     "text": [
      "a#b#c#d\n"
     ]
    }
   ],
   "source": [
    "print('#'.join(arr)) # we can add # in between strings"
   ]
  },
  {
   "cell_type": "markdown",
   "id": "8051bb5c",
   "metadata": {},
   "source": [
    "# string to INT\n"
   ]
  },
  {
   "cell_type": "code",
   "execution_count": 24,
   "id": "e85914ec",
   "metadata": {},
   "outputs": [
    {
     "name": "stdout",
     "output_type": "stream",
     "text": [
      "1002\n"
     ]
    }
   ],
   "source": [
    "str10 =\"1002\"\n",
    "print(int(str10))"
   ]
  },
  {
   "cell_type": "markdown",
   "id": "98f1a7e7",
   "metadata": {},
   "source": [
    "# int to string"
   ]
  },
  {
   "cell_type": "code",
   "execution_count": 33,
   "id": "0cdbfd85",
   "metadata": {},
   "outputs": [
    {
     "ename": "SyntaxError",
     "evalue": "invalid syntax (1763773627.py, line 1)",
     "output_type": "error",
     "traceback": [
      "\u001b[0;36m  Input \u001b[0;32mIn [33]\u001b[0;36m\u001b[0m\n\u001b[0;31m    =\u001b[0m\n\u001b[0m    ^\u001b[0m\n\u001b[0;31mSyntaxError\u001b[0m\u001b[0;31m:\u001b[0m invalid syntax\n"
     ]
    }
   ],
   "source": [
    "integer = \"2332\"\n",
    "print(str(integer)) # output = 2332"
   ]
  },
  {
   "cell_type": "markdown",
   "id": "79a6cae0",
   "metadata": {},
   "source": [
    "\n"
   ]
  },
  {
   "cell_type": "markdown",
   "id": "50feace6",
   "metadata": {},
   "source": [
    "# list to set | tuple | dictionary"
   ]
  },
  {
   "cell_type": "code",
   "execution_count": 38,
   "id": "5e4e0855",
   "metadata": {},
   "outputs": [
    {
     "name": "stdout",
     "output_type": "stream",
     "text": [
      "('1', '2', '3', '4')\n"
     ]
    }
   ],
   "source": [
    "lst = ['1','2','3','4']\n",
    "tpl= tuple(lst)\n",
    "print(tpl)\n"
   ]
  },
  {
   "cell_type": "code",
   "execution_count": 39,
   "id": "cc0fe690",
   "metadata": {},
   "outputs": [
    {
     "name": "stdout",
     "output_type": "stream",
     "text": [
      "{'4', '2', '3', '1'}\n"
     ]
    }
   ],
   "source": [
    "lst = ['1','2','3','4']\n",
    "st= set(lst)\n",
    "print(st)"
   ]
  },
  {
   "cell_type": "code",
   "execution_count": 49,
   "id": "cc325dbe",
   "metadata": {},
   "outputs": [
    {
     "name": "stdout",
     "output_type": "stream",
     "text": [
      "{'1': None, '2': None, '3': None, '4': None}\n"
     ]
    }
   ],
   "source": [
    "lst = ['1','2','3','4']\n",
    "dic= dict.fromkeys(lst)\n",
    "print(dic)"
   ]
  },
  {
   "cell_type": "markdown",
   "id": "9d060467",
   "metadata": {},
   "source": [
    "# tuple to  list | set | dictionary"
   ]
  },
  {
   "cell_type": "code",
   "execution_count": 47,
   "id": "25015091",
   "metadata": {},
   "outputs": [
    {
     "name": "stdout",
     "output_type": "stream",
     "text": [
      "['1', '2', '3', '4']\n"
     ]
    }
   ],
   "source": [
    "tp = ('1','2','3','4')\n",
    "lst= list(tp)\n",
    "print(lst)"
   ]
  },
  {
   "cell_type": "code",
   "execution_count": 48,
   "id": "b7945f91",
   "metadata": {},
   "outputs": [
    {
     "name": "stdout",
     "output_type": "stream",
     "text": [
      "{'4', '2', '3', '1'}\n"
     ]
    }
   ],
   "source": [
    "tp = ('1','2','3','4')\n",
    "st= set(tp)\n",
    "print(st)"
   ]
  },
  {
   "cell_type": "code",
   "execution_count": 53,
   "id": "59cfe0d5",
   "metadata": {},
   "outputs": [
    {
     "name": "stdout",
     "output_type": "stream",
     "text": [
      "{'1': 'a', '2': 'a', '3': 'a', '4': 'a'}\n"
     ]
    }
   ],
   "source": [
    "tp = ('1','2','3','4')\n",
    "dic= dict.fromkeys(tp,\"a\")\n",
    "print(dic)"
   ]
  },
  {
   "cell_type": "markdown",
   "id": "811ae04d",
   "metadata": {},
   "source": [
    "# dictionary to list | set | tuple\n"
   ]
  },
  {
   "cell_type": "code",
   "execution_count": 55,
   "id": "2658794f",
   "metadata": {},
   "outputs": [
    {
     "name": "stdout",
     "output_type": "stream",
     "text": [
      "['1', '2', '3', '4']\n"
     ]
    }
   ],
   "source": [
    "dic = {'1': 'a', '2': 'a', '3': 'a', '4': 'a'}\n",
    "lst= list(dic) # same withe set tuple and etc\n",
    "print(lst)"
   ]
  },
  {
   "cell_type": "markdown",
   "id": "e66e6ff1",
   "metadata": {},
   "source": [
    "# remove duplicates from list"
   ]
  },
  {
   "cell_type": "code",
   "execution_count": 60,
   "id": "c9790805",
   "metadata": {},
   "outputs": [
    {
     "name": "stdout",
     "output_type": "stream",
     "text": [
      "['a', 'c', 'b']\n"
     ]
    }
   ],
   "source": [
    "mylist = [\"a\", \"b\", \"a\", \"c\", \"c\"]\n",
    "mylist = list(dict.fromkeys(mylist)) # because dictionary has no duplicates\n",
    "# mylist = list(set(mylist))  set will also remove duplicates but its un ordered\n",
    "print(mylist)"
   ]
  },
  {
   "cell_type": "code",
   "execution_count": null,
   "id": "d69037fa",
   "metadata": {},
   "outputs": [],
   "source": []
  },
  {
   "cell_type": "code",
   "execution_count": null,
   "id": "edf29535",
   "metadata": {},
   "outputs": [],
   "source": []
  }
 ],
 "metadata": {
  "kernelspec": {
   "display_name": "Python 3 (ipykernel)",
   "language": "python",
   "name": "python3"
  },
  "language_info": {
   "codemirror_mode": {
    "name": "ipython",
    "version": 3
   },
   "file_extension": ".py",
   "mimetype": "text/x-python",
   "name": "python",
   "nbconvert_exporter": "python",
   "pygments_lexer": "ipython3",
   "version": "3.9.12"
  }
 },
 "nbformat": 4,
 "nbformat_minor": 5
}
