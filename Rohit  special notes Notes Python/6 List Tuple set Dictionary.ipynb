{
 "cells": [
  {
   "cell_type": "markdown",
   "id": "f412c79a",
   "metadata": {},
   "source": [
    "# LTS OCD         \n",
    "# e = element\n",
    "# i  = Index\n",
    "# L = list \n",
    "\n",
    "\n"
   ]
  },
  {
   "cell_type": "markdown",
   "id": "0956a8d5",
   "metadata": {},
   "source": [
    "# LIST [ ]      Ordered  | Changable | Duplicates        -> Slow"
   ]
  },
  {
   "cell_type": "markdown",
   "id": "64ad9a72",
   "metadata": {},
   "source": [
    "# TUPLES ()   Ordered | Unchangeable | Allow Duplicate                  -> Faster"
   ]
  },
  {
   "cell_type": "markdown",
   "id": "382ec367",
   "metadata": {},
   "source": [
    "# SET {} , Unordered | Unchangeable|  No Duplicates, | No index    -> Fastest"
   ]
  },
  {
   "cell_type": "markdown",
   "id": "5ad8c39c",
   "metadata": {},
   "source": [
    "# DICTIONARY , ordered |  Changeable | No duplicates"
   ]
  },
  {
   "cell_type": "code",
   "execution_count": null,
   "id": "582a3fd5",
   "metadata": {},
   "outputs": [],
   "source": [
    "lst = [\"apple\", \"banana\", \"cherry\", \"cat\", \"dog\"]\n",
    "\n",
    "#\n",
    "\n",
    "# count(e) | index(e)\n",
    "\n",
    "# append(e) insert(i,e) extended(L) copy() \n",
    "\n",
    "# remove(e) pop(i) clear()\n",
    "\n",
    "# reverse() sort()\n",
    "\n"
   ]
  },
  {
   "cell_type": "code",
   "execution_count": null,
   "id": "1c7b560e",
   "metadata": {},
   "outputs": [],
   "source": [
    "tpl = (\"apple\", \"banana\", \"cherry\", \"cat\", \"dog\")\n",
    "\n",
    "# count() Index ()\n",
    "\n"
   ]
  },
  {
   "cell_type": "code",
   "execution_count": 3,
   "id": "3786df96",
   "metadata": {},
   "outputs": [],
   "source": [
    "Dic = {\"brand\": \"Ford\", \"model\": \"Mustang\", \"year\": 1964}\n",
    "\n",
    "\n",
    "\n",
    "\n"
   ]
  },
  {
   "cell_type": "code",
   "execution_count": null,
   "id": "be5b0f86",
   "metadata": {},
   "outputs": [],
   "source": []
  },
  {
   "cell_type": "code",
   "execution_count": null,
   "id": "5a88ae9b",
   "metadata": {},
   "outputs": [],
   "source": []
  }
 ],
 "metadata": {
  "kernelspec": {
   "display_name": "Python 3 (ipykernel)",
   "language": "python",
   "name": "python3"
  },
  "language_info": {
   "codemirror_mode": {
    "name": "ipython",
    "version": 3
   },
   "file_extension": ".py",
   "mimetype": "text/x-python",
   "name": "python",
   "nbconvert_exporter": "python",
   "pygments_lexer": "ipython3",
   "version": "3.9.12"
  }
 },
 "nbformat": 4,
 "nbformat_minor": 5
}
