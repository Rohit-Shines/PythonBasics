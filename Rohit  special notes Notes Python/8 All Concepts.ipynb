{
 "cells": [
  {
   "cell_type": "markdown",
   "id": "2933136e",
   "metadata": {},
   "source": [
    "# list iterations"
   ]
  },
  {
   "cell_type": "code",
   "execution_count": 52,
   "id": "3c707843",
   "metadata": {},
   "outputs": [
    {
     "name": "stdout",
     "output_type": "stream",
     "text": [
      "flower\n",
      "['flower', 'flow']\n",
      "['flower', 'flight', 'gadafi']\n",
      "f\n",
      "foe\n",
      "aia\n"
     ]
    }
   ],
   "source": [
    "lst = [\"flower\",\"flow\",\"flight\",\"animal\",\"gadafi\"]\n",
    "\n",
    "print(lst[0]) # 0 element in list\n",
    "print(lst[0:2]) # 0 till 1 elements in list '\n",
    "print(lst[0:5:2])# 0 to 4 elements with step 2 \n",
    "\n",
    "print(lst[0][0]) # Oth element 0th character\n",
    "print(lst[0][0:5:2])# Oth element 0 to 5th character with step 2\n",
    "print(lst[3][0:5:2])# 3rd element 0 to 5th character with step 2\n",
    "  "
   ]
  },
  {
   "cell_type": "markdown",
   "id": "b0c703e0",
   "metadata": {},
   "source": [
    "# string"
   ]
  },
  {
   "cell_type": "code",
   "execution_count": 45,
   "id": "955c32b6",
   "metadata": {},
   "outputs": [
    {
     "name": "stdout",
     "output_type": "stream",
     "text": [
      "a\n",
      "amazi\n",
      "aai\n"
     ]
    }
   ],
   "source": [
    "str =\"amazing\"\n",
    "print(str[0])\n",
    "print(str[0:5])\n",
    "print(str[0:5:2]) # Oth element 0 to 5th character with step 2"
   ]
  },
  {
   "cell_type": "code",
   "execution_count": null,
   "id": "198a37bf",
   "metadata": {},
   "outputs": [],
   "source": []
  }
 ],
 "metadata": {
  "kernelspec": {
   "display_name": "Python 3 (ipykernel)",
   "language": "python",
   "name": "python3"
  },
  "language_info": {
   "codemirror_mode": {
    "name": "ipython",
    "version": 3
   },
   "file_extension": ".py",
   "mimetype": "text/x-python",
   "name": "python",
   "nbconvert_exporter": "python",
   "pygments_lexer": "ipython3",
   "version": "3.9.12"
  }
 },
 "nbformat": 4,
 "nbformat_minor": 5
}
